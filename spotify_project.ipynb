{
  "cells": [
    {
      "metadata": {
        "id": "S_DfnoNKIRpS"
      },
      "cell_type": "markdown",
      "source": [
        "In this project, I will explore a dataset of the Swedish music streaming platform: Spotify! The dataset contains more than 160,000 songs collected from Spotify Web API. The features include song, artist, release-date as well as some characteristics of song such as acousticness, danceability, loudness, tempo and so on. Date range is from 1921 to 2020. You will discover interesting insights about music indutry and music in general. 😎"
      ]
    },
    {
      "metadata": {
        "id": "tDqRymAwIRpV"
      },
      "cell_type": "markdown",
      "source": [
        "## 1. Importing Libraries"
      ]
    },
    {
      "metadata": {
        "ExecuteTime": {
          "end_time": "2020-09-27T18:10:59.565886Z",
          "start_time": "2020-09-27T18:10:58.349400Z"
        },
        "trusted": true,
        "id": "6SfA9HBeIRpV"
      },
      "cell_type": "code",
      "source": [
        "import pandas as pd\n",
        "import numpy as np\n",
        "import matplotlib.pyplot as plt\n",
        "import seaborn as sns"
      ],
      "execution_count": null,
      "outputs": []
    },
    {
      "metadata": {
        "ExecuteTime": {
          "end_time": "2020-09-27T18:10:59.695147Z",
          "start_time": "2020-09-27T18:10:59.567829Z"
        },
        "id": "G2XbtGMsIRpW"
      },
      "cell_type": "markdown",
      "source": [
        "## 2. Loading Spotify dataset"
      ]
    },
    {
      "metadata": {
        "ExecuteTime": {
          "end_time": "2020-09-27T18:11:00.172221Z",
          "start_time": "2020-09-27T18:10:59.699946Z"
        },
        "trusted": true,
        "id": "fLqz_qTzIRpW"
      },
      "cell_type": "code",
      "source": [
        "df = pd.read_csv('https://storage.googleapis.com/introduction-to-data-science/spotify-dataset.csv')"
      ],
      "execution_count": null,
      "outputs": []
    },
    {
      "metadata": {
        "id": "pwvLVHYAIRpW"
      },
      "cell_type": "markdown",
      "source": [
        "----------"
      ]
    },
    {
      "metadata": {
        "id": "sH29YE-iIRpX"
      },
      "cell_type": "markdown",
      "source": [
        "## Taking a look at the first 10 rows of the dataset 👀"
      ]
    },
    {
      "metadata": {
        "trusted": true,
        "id": "dxTgscmfIRpX",
        "outputId": "d01dedc0-236e-488f-ea5e-4a23c979ed88"
      },
      "cell_type": "code",
      "source": [
        "df.head(10)"
      ],
      "execution_count": null,
      "outputs": [
        {
          "output_type": "execute_result",
          "execution_count": 6,
          "data": {
            "text/plain": "   acousticness                                     artists  danceability  \\\n0         0.995                         ['Carl Woitschach']         0.708   \n1         0.994    ['Robert Schumann', 'Vladimir Horowitz']         0.379   \n2         0.604                     ['Seweryn Goszczyński']         0.749   \n3         0.995                        ['Francisco Canaro']         0.781   \n4         0.990    ['Frédéric Chopin', 'Vladimir Horowitz']         0.210   \n5         0.995  ['Felix Mendelssohn', 'Vladimir Horowitz']         0.424   \n6         0.956        ['Franz Liszt', 'Vladimir Horowitz']         0.444   \n7         0.988                         ['Carl Woitschach']         0.555   \n8         0.995              ['Francisco Canaro', 'Charlo']         0.683   \n9         0.846                     ['Seweryn Goszczyński']         0.674   \n\n   duration_ms  energy  explicit                      id  instrumentalness  \\\n0       158648  0.1950         0  6KbQ3uYMLKb5jDxLF7wYDD             0.563   \n1       282133  0.0135         0  6KuQTIu1KoTTkLXKrwlLPV             0.901   \n2       104300  0.2200         0  6L63VW0PibdM1HDSBoqnoM             0.000   \n3       180760  0.1300         0  6M94FkXd15sOAOQYRnWPN8             0.887   \n4       687733  0.2040         0  6N6tiFZ9vLTSOIxkj8qKrd             0.908   \n5       352600  0.1200         0  6NxAf7M8DNHOBTmEd3JSO5             0.911   \n6       136627  0.1970         0  6O0puPuyrxPjDTHDUgsWI7             0.435   \n7       153967  0.4210         0  6OJjveoYwJdIt76y0Pxpxw             0.836   \n8       162493  0.2070         0  6OaJ8Bh7lsBeYoBmwmo2nh             0.206   \n9       111600  0.2050         0  6PrZexNb16cabXR8Q418Xc             0.000   \n\n   key  liveness  loudness  mode  \\\n0   10    0.1510   -12.428     1   \n1    8    0.0763   -28.454     1   \n2    5    0.1190   -19.924     0   \n3    1    0.1110   -14.734     0   \n4   11    0.0980   -16.829     1   \n5    6    0.0915   -19.242     0   \n6   11    0.0744   -17.226     1   \n7    1    0.1050    -9.878     1   \n8    9    0.3370    -9.801     0   \n9    9    0.1700   -20.119     1   \n\n                                             name  popularity release_date  \\\n0                     Singende Bataillone 1. Teil           0         1928   \n1        Fantasiestücke, Op. 111: Più tosto lento           0         1928   \n2                  Chapter 1.18 - Zamek kaniowski           0         1928   \n3   Bebamos Juntos - Instrumental (Remasterizado)           0   1928-09-25   \n4     Polonaise-Fantaisie in A-Flat Major, Op. 61           1         1928   \n5                     Scherzo a capriccio: Presto           0         1928   \n6  Valse oubliée No. 1 in F-Sharp Major, S. 215/1           0         1928   \n7                             Per aspera ad astra           0         1928   \n8                Moneda Corriente - Remasterizado           0   1928-10-03   \n9                   Chapter 1.3 - Zamek kaniowski           0         1928   \n\n   speechiness    tempo  valence  year  \n0       0.0506  118.469   0.7790  1928  \n1       0.0462   83.972   0.0767  1928  \n2       0.9290  107.177   0.8800  1928  \n3       0.0926  108.003   0.7200  1928  \n4       0.0424   62.149   0.0693  1928  \n5       0.0593   63.521   0.2660  1928  \n6       0.0400   80.495   0.3050  1928  \n7       0.0474  123.310   0.8570  1928  \n8       0.1270  119.833   0.4930  1928  \n9       0.9540   81.249   0.7590  1928  ",
            "text/html": "<div>\n<style scoped>\n    .dataframe tbody tr th:only-of-type {\n        vertical-align: middle;\n    }\n\n    .dataframe tbody tr th {\n        vertical-align: top;\n    }\n\n    .dataframe thead th {\n        text-align: right;\n    }\n</style>\n<table border=\"1\" class=\"dataframe\">\n  <thead>\n    <tr style=\"text-align: right;\">\n      <th></th>\n      <th>acousticness</th>\n      <th>artists</th>\n      <th>danceability</th>\n      <th>duration_ms</th>\n      <th>energy</th>\n      <th>explicit</th>\n      <th>id</th>\n      <th>instrumentalness</th>\n      <th>key</th>\n      <th>liveness</th>\n      <th>loudness</th>\n      <th>mode</th>\n      <th>name</th>\n      <th>popularity</th>\n      <th>release_date</th>\n      <th>speechiness</th>\n      <th>tempo</th>\n      <th>valence</th>\n      <th>year</th>\n    </tr>\n  </thead>\n  <tbody>\n    <tr>\n      <th>0</th>\n      <td>0.995</td>\n      <td>['Carl Woitschach']</td>\n      <td>0.708</td>\n      <td>158648</td>\n      <td>0.1950</td>\n      <td>0</td>\n      <td>6KbQ3uYMLKb5jDxLF7wYDD</td>\n      <td>0.563</td>\n      <td>10</td>\n      <td>0.1510</td>\n      <td>-12.428</td>\n      <td>1</td>\n      <td>Singende Bataillone 1. Teil</td>\n      <td>0</td>\n      <td>1928</td>\n      <td>0.0506</td>\n      <td>118.469</td>\n      <td>0.7790</td>\n      <td>1928</td>\n    </tr>\n    <tr>\n      <th>1</th>\n      <td>0.994</td>\n      <td>['Robert Schumann', 'Vladimir Horowitz']</td>\n      <td>0.379</td>\n      <td>282133</td>\n      <td>0.0135</td>\n      <td>0</td>\n      <td>6KuQTIu1KoTTkLXKrwlLPV</td>\n      <td>0.901</td>\n      <td>8</td>\n      <td>0.0763</td>\n      <td>-28.454</td>\n      <td>1</td>\n      <td>Fantasiestücke, Op. 111: Più tosto lento</td>\n      <td>0</td>\n      <td>1928</td>\n      <td>0.0462</td>\n      <td>83.972</td>\n      <td>0.0767</td>\n      <td>1928</td>\n    </tr>\n    <tr>\n      <th>2</th>\n      <td>0.604</td>\n      <td>['Seweryn Goszczyński']</td>\n      <td>0.749</td>\n      <td>104300</td>\n      <td>0.2200</td>\n      <td>0</td>\n      <td>6L63VW0PibdM1HDSBoqnoM</td>\n      <td>0.000</td>\n      <td>5</td>\n      <td>0.1190</td>\n      <td>-19.924</td>\n      <td>0</td>\n      <td>Chapter 1.18 - Zamek kaniowski</td>\n      <td>0</td>\n      <td>1928</td>\n      <td>0.9290</td>\n      <td>107.177</td>\n      <td>0.8800</td>\n      <td>1928</td>\n    </tr>\n    <tr>\n      <th>3</th>\n      <td>0.995</td>\n      <td>['Francisco Canaro']</td>\n      <td>0.781</td>\n      <td>180760</td>\n      <td>0.1300</td>\n      <td>0</td>\n      <td>6M94FkXd15sOAOQYRnWPN8</td>\n      <td>0.887</td>\n      <td>1</td>\n      <td>0.1110</td>\n      <td>-14.734</td>\n      <td>0</td>\n      <td>Bebamos Juntos - Instrumental (Remasterizado)</td>\n      <td>0</td>\n      <td>1928-09-25</td>\n      <td>0.0926</td>\n      <td>108.003</td>\n      <td>0.7200</td>\n      <td>1928</td>\n    </tr>\n    <tr>\n      <th>4</th>\n      <td>0.990</td>\n      <td>['Frédéric Chopin', 'Vladimir Horowitz']</td>\n      <td>0.210</td>\n      <td>687733</td>\n      <td>0.2040</td>\n      <td>0</td>\n      <td>6N6tiFZ9vLTSOIxkj8qKrd</td>\n      <td>0.908</td>\n      <td>11</td>\n      <td>0.0980</td>\n      <td>-16.829</td>\n      <td>1</td>\n      <td>Polonaise-Fantaisie in A-Flat Major, Op. 61</td>\n      <td>1</td>\n      <td>1928</td>\n      <td>0.0424</td>\n      <td>62.149</td>\n      <td>0.0693</td>\n      <td>1928</td>\n    </tr>\n    <tr>\n      <th>5</th>\n      <td>0.995</td>\n      <td>['Felix Mendelssohn', 'Vladimir Horowitz']</td>\n      <td>0.424</td>\n      <td>352600</td>\n      <td>0.1200</td>\n      <td>0</td>\n      <td>6NxAf7M8DNHOBTmEd3JSO5</td>\n      <td>0.911</td>\n      <td>6</td>\n      <td>0.0915</td>\n      <td>-19.242</td>\n      <td>0</td>\n      <td>Scherzo a capriccio: Presto</td>\n      <td>0</td>\n      <td>1928</td>\n      <td>0.0593</td>\n      <td>63.521</td>\n      <td>0.2660</td>\n      <td>1928</td>\n    </tr>\n    <tr>\n      <th>6</th>\n      <td>0.956</td>\n      <td>['Franz Liszt', 'Vladimir Horowitz']</td>\n      <td>0.444</td>\n      <td>136627</td>\n      <td>0.1970</td>\n      <td>0</td>\n      <td>6O0puPuyrxPjDTHDUgsWI7</td>\n      <td>0.435</td>\n      <td>11</td>\n      <td>0.0744</td>\n      <td>-17.226</td>\n      <td>1</td>\n      <td>Valse oubliée No. 1 in F-Sharp Major, S. 215/1</td>\n      <td>0</td>\n      <td>1928</td>\n      <td>0.0400</td>\n      <td>80.495</td>\n      <td>0.3050</td>\n      <td>1928</td>\n    </tr>\n    <tr>\n      <th>7</th>\n      <td>0.988</td>\n      <td>['Carl Woitschach']</td>\n      <td>0.555</td>\n      <td>153967</td>\n      <td>0.4210</td>\n      <td>0</td>\n      <td>6OJjveoYwJdIt76y0Pxpxw</td>\n      <td>0.836</td>\n      <td>1</td>\n      <td>0.1050</td>\n      <td>-9.878</td>\n      <td>1</td>\n      <td>Per aspera ad astra</td>\n      <td>0</td>\n      <td>1928</td>\n      <td>0.0474</td>\n      <td>123.310</td>\n      <td>0.8570</td>\n      <td>1928</td>\n    </tr>\n    <tr>\n      <th>8</th>\n      <td>0.995</td>\n      <td>['Francisco Canaro', 'Charlo']</td>\n      <td>0.683</td>\n      <td>162493</td>\n      <td>0.2070</td>\n      <td>0</td>\n      <td>6OaJ8Bh7lsBeYoBmwmo2nh</td>\n      <td>0.206</td>\n      <td>9</td>\n      <td>0.3370</td>\n      <td>-9.801</td>\n      <td>0</td>\n      <td>Moneda Corriente - Remasterizado</td>\n      <td>0</td>\n      <td>1928-10-03</td>\n      <td>0.1270</td>\n      <td>119.833</td>\n      <td>0.4930</td>\n      <td>1928</td>\n    </tr>\n    <tr>\n      <th>9</th>\n      <td>0.846</td>\n      <td>['Seweryn Goszczyński']</td>\n      <td>0.674</td>\n      <td>111600</td>\n      <td>0.2050</td>\n      <td>0</td>\n      <td>6PrZexNb16cabXR8Q418Xc</td>\n      <td>0.000</td>\n      <td>9</td>\n      <td>0.1700</td>\n      <td>-20.119</td>\n      <td>1</td>\n      <td>Chapter 1.3 - Zamek kaniowski</td>\n      <td>0</td>\n      <td>1928</td>\n      <td>0.9540</td>\n      <td>81.249</td>\n      <td>0.7590</td>\n      <td>1928</td>\n    </tr>\n  </tbody>\n</table>\n</div>"
          },
          "metadata": {}
        }
      ]
    },
    {
      "metadata": {
        "ExecuteTime": {
          "end_time": "2020-09-27T15:37:53.023017Z",
          "start_time": "2020-09-27T15:37:53.019512Z"
        },
        "id": "UjHss6l_IRpX"
      },
      "cell_type": "markdown",
      "source": [
        "## Here, we check if there are any outliers or inconsistencies in the dataset 🔍"
      ]
    },
    {
      "metadata": {
        "trusted": true,
        "id": "ED3YhdZnIRpY",
        "outputId": "429770e7-7766-407a-ed38-ba7cc4d858be"
      },
      "cell_type": "code",
      "source": [
        "df.isnull().sum()"
      ],
      "execution_count": null,
      "outputs": [
        {
          "output_type": "execute_result",
          "execution_count": 7,
          "data": {
            "text/plain": "acousticness        0\nartists             0\ndanceability        0\nduration_ms         0\nenergy              0\nexplicit            0\nid                  0\ninstrumentalness    0\nkey                 0\nliveness            0\nloudness            0\nmode                0\nname                0\npopularity          0\nrelease_date        0\nspeechiness         0\ntempo               0\nvalence             0\nyear                0\ndtype: int64"
          },
          "metadata": {}
        }
      ]
    },
    {
      "metadata": {
        "ExecuteTime": {
          "end_time": "2020-09-27T15:38:37.540621Z",
          "start_time": "2020-09-27T15:38:37.536934Z"
        },
        "id": "wN3J_XsbIRpY"
      },
      "cell_type": "markdown",
      "source": [
        "## Number of songs in the dataset"
      ]
    },
    {
      "metadata": {
        "trusted": true,
        "id": "KR7-wq8GIRpY",
        "outputId": "201785cb-3264-4bcc-f155-099110413762"
      },
      "cell_type": "code",
      "source": [
        "df.shape[0]"
      ],
      "execution_count": null,
      "outputs": [
        {
          "output_type": "execute_result",
          "execution_count": 12,
          "data": {
            "text/plain": "169909"
          },
          "metadata": {}
        }
      ]
    },
    {
      "metadata": {
        "id": "UQlW7yN5IRpZ"
      },
      "cell_type": "markdown",
      "source": [
        "## 4. Number of artists"
      ]
    },
    {
      "metadata": {
        "trusted": true,
        "id": "ioOLCeu0IRpZ",
        "outputId": "05edb694-e9df-410e-90e2-b5299e1cd067"
      },
      "cell_type": "code",
      "source": [
        "df['artists'].nunique()"
      ],
      "execution_count": null,
      "outputs": [
        {
          "output_type": "execute_result",
          "execution_count": 16,
          "data": {
            "text/plain": "33375"
          },
          "metadata": {}
        }
      ]
    },
    {
      "metadata": {
        "id": "-t7p-vz-IRpZ"
      },
      "cell_type": "markdown",
      "source": [
        "## The average duration of a song, in minutes 🕕"
      ]
    },
    {
      "metadata": {
        "trusted": true,
        "id": "oaN5O2KTIRpZ",
        "outputId": "ef25f437-1ff5-4657-df66-55899c70c8af"
      },
      "cell_type": "code",
      "source": [
        "duration_mins = df['duration_ms'].mean()/1000\n",
        "duration_mins/60"
      ],
      "execution_count": null,
      "outputs": [
        {
          "output_type": "execute_result",
          "execution_count": 21,
          "data": {
            "text/plain": "3.856769316222213"
          },
          "metadata": {}
        }
      ]
    },
    {
      "metadata": {
        "id": "qxH8Oa2vIRpZ"
      },
      "cell_type": "markdown",
      "source": [
        "## Plotting the distribution of the durations to visually analyse the data 📊"
      ]
    },
    {
      "metadata": {
        "trusted": true,
        "id": "DHlf_8ZIIRpZ",
        "outputId": "dc2be651-91c5-4e75-a83e-7a30fdf84318"
      },
      "cell_type": "code",
      "source": [
        "sns.distplot(df['duration_ms'])"
      ],
      "execution_count": null,
      "outputs": [
        {
          "output_type": "execute_result",
          "execution_count": 32,
          "data": {
            "text/plain": "<AxesSubplot:xlabel='duration_ms', ylabel='Density'>"
          },
          "metadata": {}
        },
        {
          "output_type": "display_data",
          "data": {
            "text/plain": "<Figure size 432x288 with 1 Axes>",
            "image/png": "[encoded data removed]"
          },
          "metadata": {
            "needs_background": "light"
          }
        }
      ]
    },
    {
      "metadata": {
        "id": "wt610-gKIRpa"
      },
      "cell_type": "markdown",
      "source": [
        "## Making this plot more readable by removing outliers (extreme values)"
      ]
    },
    {
      "metadata": {
        "trusted": true,
        "id": "exHRcz6WIRpa",
        "outputId": "af0688ba-1aab-427c-f3ad-dfd9d763a7fb"
      },
      "cell_type": "code",
      "source": [
        "sns.displot(df['duration_ms']/1000/60)\n",
        "plt.xlim(0,10)"
      ],
      "execution_count": null,
      "outputs": [
        {
          "output_type": "execute_result",
          "execution_count": 34,
          "data": {
            "text/plain": "(0.0, 10.0)"
          },
          "metadata": {}
        },
        {
          "output_type": "display_data",
          "data": {
            "text/plain": "<Figure size 360x360 with 1 Axes>",
            "image/png": "[encoded data removed]"
          },
          "metadata": {
            "needs_background": "light"
          }
        }
      ]
    },
    {
      "metadata": {
        "id": "kaXv0fP3IRpa"
      },
      "cell_type": "markdown",
      "source": [
        "We only remove 470 songs (out of almost 170k) and get a way more interesting plot!"
      ]
    },
    {
      "metadata": {
        "id": "Nr9Ulfs3IRpa"
      },
      "cell_type": "markdown",
      "source": [
        "## The top 10 longest songs (by duration)"
      ]
    },
    {
      "metadata": {
        "trusted": true,
        "id": "MNMn3mTOIRpa",
        "outputId": "55af9ac3-28a7-4c75-a6d1-0f5fe1cec753"
      },
      "cell_type": "code",
      "source": [
        "df.nlargest(10, 'duration_ms')"
      ],
      "execution_count": null,
      "outputs": [
        {
          "output_type": "execute_result",
          "execution_count": 35,
          "data": {
            "text/plain": "        acousticness                                artists  danceability  \\\n7411        0.111000                      ['Sound Dreamer']        0.0000   \n46972       0.975000                    ['Sounds for Life']        0.1530   \n54511       0.000385  ['Lightning, Thunder and Rain Storm']        0.1160   \n54675       0.932000                       ['Ocean Sounds']        0.0797   \n125152      0.932000              ['Ocean Waves For Sleep']        0.0797   \n38491       0.003670                              ['Sleep']        0.1600   \n140784      0.976000                          ['Brian Eno']        0.0918   \n72889       0.601000                       ['Environments']        0.1590   \n10573       0.900000                        ['Umm Kulthum']        0.4100   \n118777      0.891000                        ['Umm Kulthum']        0.3450   \n\n        duration_ms    energy  explicit                      id  \\\n7411        5403500  0.000099         0  7foc25ig7dibxvULPU2kBG   \n46972       4270034  0.079200         0  605JTCltCe1IcqrGXQ294K   \n54511       4269407  0.338000         0  7dYf0CsWHDLvlP6HJPs3zO   \n54675       4120258  0.995000         0  2QfFLpSGF1T1pY6tq4kD7Z   \n125152      4120258  0.995000         0  1saXdvEAafdRzUphXBzSHg   \n38491       3816373  0.572000         0  1vhvheW4R0KbK6Kr3NFplW   \n140784      3650800  0.056900         0  4t3Yh6tKkxXrc458pNI7zZ   \n72889       3557955  0.562000         0  2rRuuVflvA23Fcl8KezNAF   \n10573       3551152  0.451000         0  0AsT5HMyXuqa8qWMLv0YZb   \n118777      3523619  0.723000         0  1gXsu5iZHLpUr1zvXEfOxw   \n\n        instrumentalness  key  liveness  loudness  mode  \\\n7411            0.392000    2    0.1370   -21.669     1   \n46972           1.000000   10    0.1130   -23.962     0   \n54511           0.093500    1    0.3420   -36.638     1   \n54675           0.562000    1    0.3100   -17.379     1   \n125152          0.562000    1    0.3100   -17.379     1   \n38491           0.745000    5    0.0952    -6.949     1   \n140784          0.884000    0    0.0842   -31.808     1   \n72889           0.611000   10    0.1070   -22.135     0   \n10573           0.000034    8    0.7030   -10.213     0   \n118777          0.769000    9    0.3930    -7.801     1   \n\n                                                  name  popularity  \\\n7411                          Brown Noise - 90 Minutes          50   \n46972                            Brown Noise for Sleep          42   \n54511                     Midnight Thunderstorm Part 2          44   \n54675                               Ocean Waves Sounds          44   \n125152                           Ocean Waves for Sleep          55   \n38491                                       Dopesmoker          43   \n140784      Thursday Afternoon - 2005 Digital Remaster          39   \n72889   The Psychologically Ultimate Seashore (16 rpm)          19   \n10573                                       Enta Oumry          26   \n118777                                  Naheg El Berda           0   \n\n       release_date  speechiness    tempo   valence  year  \n7411     2013-06-05       0.0000    0.000  0.000000  2013  \n46972    2009-03-15       0.1250  132.904  0.000537  2009  \n54511    2009-09-22       0.0648   94.453  0.029300  2009  \n54675    2010-07-16       0.0612   84.788  0.000010  2010  \n125152   2010-07-16       0.0612   84.788  0.000010  2010  \n38491          2003       0.0321   96.926  0.093200  2003  \n140784   1985-10-01       0.0358   81.944  0.052800  1985  \n72889    1969-01-01       0.1600  129.863  0.012600  1969  \n10573    1964-02-06       0.1260  118.125  0.408000  1964  \n118777   1946-01-01       0.0996  115.550  0.299000  1946  ",
            "text/html": "<div>\n<style scoped>\n    .dataframe tbody tr th:only-of-type {\n        vertical-align: middle;\n    }\n\n    .dataframe tbody tr th {\n        vertical-align: top;\n    }\n\n    .dataframe thead th {\n        text-align: right;\n    }\n</style>\n<table border=\"1\" class=\"dataframe\">\n  <thead>\n    <tr style=\"text-align: right;\">\n      <th></th>\n      <th>acousticness</th>\n      <th>artists</th>\n      <th>danceability</th>\n      <th>duration_ms</th>\n      <th>energy</th>\n      <th>explicit</th>\n      <th>id</th>\n      <th>instrumentalness</th>\n      <th>key</th>\n      <th>liveness</th>\n      <th>loudness</th>\n      <th>mode</th>\n      <th>name</th>\n      <th>popularity</th>\n      <th>release_date</th>\n      <th>speechiness</th>\n      <th>tempo</th>\n      <th>valence</th>\n      <th>year</th>\n    </tr>\n  </thead>\n  <tbody>\n    <tr>\n      <th>7411</th>\n      <td>0.111000</td>\n      <td>['Sound Dreamer']</td>\n      <td>0.0000</td>\n      <td>5403500</td>\n      <td>0.000099</td>\n      <td>0</td>\n      <td>7foc25ig7dibxvULPU2kBG</td>\n      <td>0.392000</td>\n      <td>2</td>\n      <td>0.1370</td>\n      <td>-21.669</td>\n      <td>1</td>\n      <td>Brown Noise - 90 Minutes</td>\n      <td>50</td>\n      <td>2013-06-05</td>\n      <td>0.0000</td>\n      <td>0.000</td>\n      <td>0.000000</td>\n      <td>2013</td>\n    </tr>\n    <tr>\n      <th>46972</th>\n      <td>0.975000</td>\n      <td>['Sounds for Life']</td>\n      <td>0.1530</td>\n      <td>4270034</td>\n      <td>0.079200</td>\n      <td>0</td>\n      <td>605JTCltCe1IcqrGXQ294K</td>\n      <td>1.000000</td>\n      <td>10</td>\n      <td>0.1130</td>\n      <td>-23.962</td>\n      <td>0</td>\n      <td>Brown Noise for Sleep</td>\n      <td>42</td>\n      <td>2009-03-15</td>\n      <td>0.1250</td>\n      <td>132.904</td>\n      <td>0.000537</td>\n      <td>2009</td>\n    </tr>\n    <tr>\n      <th>54511</th>\n      <td>0.000385</td>\n      <td>['Lightning, Thunder and Rain Storm']</td>\n      <td>0.1160</td>\n      <td>4269407</td>\n      <td>0.338000</td>\n      <td>0</td>\n      <td>7dYf0CsWHDLvlP6HJPs3zO</td>\n      <td>0.093500</td>\n      <td>1</td>\n      <td>0.3420</td>\n      <td>-36.638</td>\n      <td>1</td>\n      <td>Midnight Thunderstorm Part 2</td>\n      <td>44</td>\n      <td>2009-09-22</td>\n      <td>0.0648</td>\n      <td>94.453</td>\n      <td>0.029300</td>\n      <td>2009</td>\n    </tr>\n    <tr>\n      <th>54675</th>\n      <td>0.932000</td>\n      <td>['Ocean Sounds']</td>\n      <td>0.0797</td>\n      <td>4120258</td>\n      <td>0.995000</td>\n      <td>0</td>\n      <td>2QfFLpSGF1T1pY6tq4kD7Z</td>\n      <td>0.562000</td>\n      <td>1</td>\n      <td>0.3100</td>\n      <td>-17.379</td>\n      <td>1</td>\n      <td>Ocean Waves Sounds</td>\n      <td>44</td>\n      <td>2010-07-16</td>\n      <td>0.0612</td>\n      <td>84.788</td>\n      <td>0.000010</td>\n      <td>2010</td>\n    </tr>\n    <tr>\n      <th>125152</th>\n      <td>0.932000</td>\n      <td>['Ocean Waves For Sleep']</td>\n      <td>0.0797</td>\n      <td>4120258</td>\n      <td>0.995000</td>\n      <td>0</td>\n      <td>1saXdvEAafdRzUphXBzSHg</td>\n      <td>0.562000</td>\n      <td>1</td>\n      <td>0.3100</td>\n      <td>-17.379</td>\n      <td>1</td>\n      <td>Ocean Waves for Sleep</td>\n      <td>55</td>\n      <td>2010-07-16</td>\n      <td>0.0612</td>\n      <td>84.788</td>\n      <td>0.000010</td>\n      <td>2010</td>\n    </tr>\n    <tr>\n      <th>38491</th>\n      <td>0.003670</td>\n      <td>['Sleep']</td>\n      <td>0.1600</td>\n      <td>3816373</td>\n      <td>0.572000</td>\n      <td>0</td>\n      <td>1vhvheW4R0KbK6Kr3NFplW</td>\n      <td>0.745000</td>\n      <td>5</td>\n      <td>0.0952</td>\n      <td>-6.949</td>\n      <td>1</td>\n      <td>Dopesmoker</td>\n      <td>43</td>\n      <td>2003</td>\n      <td>0.0321</td>\n      <td>96.926</td>\n      <td>0.093200</td>\n      <td>2003</td>\n    </tr>\n    <tr>\n      <th>140784</th>\n      <td>0.976000</td>\n      <td>['Brian Eno']</td>\n      <td>0.0918</td>\n      <td>3650800</td>\n      <td>0.056900</td>\n      <td>0</td>\n      <td>4t3Yh6tKkxXrc458pNI7zZ</td>\n      <td>0.884000</td>\n      <td>0</td>\n      <td>0.0842</td>\n      <td>-31.808</td>\n      <td>1</td>\n      <td>Thursday Afternoon - 2005 Digital Remaster</td>\n      <td>39</td>\n      <td>1985-10-01</td>\n      <td>0.0358</td>\n      <td>81.944</td>\n      <td>0.052800</td>\n      <td>1985</td>\n    </tr>\n    <tr>\n      <th>72889</th>\n      <td>0.601000</td>\n      <td>['Environments']</td>\n      <td>0.1590</td>\n      <td>3557955</td>\n      <td>0.562000</td>\n      <td>0</td>\n      <td>2rRuuVflvA23Fcl8KezNAF</td>\n      <td>0.611000</td>\n      <td>10</td>\n      <td>0.1070</td>\n      <td>-22.135</td>\n      <td>0</td>\n      <td>The Psychologically Ultimate Seashore (16 rpm)</td>\n      <td>19</td>\n      <td>1969-01-01</td>\n      <td>0.1600</td>\n      <td>129.863</td>\n      <td>0.012600</td>\n      <td>1969</td>\n    </tr>\n    <tr>\n      <th>10573</th>\n      <td>0.900000</td>\n      <td>['Umm Kulthum']</td>\n      <td>0.4100</td>\n      <td>3551152</td>\n      <td>0.451000</td>\n      <td>0</td>\n      <td>0AsT5HMyXuqa8qWMLv0YZb</td>\n      <td>0.000034</td>\n      <td>8</td>\n      <td>0.7030</td>\n      <td>-10.213</td>\n      <td>0</td>\n      <td>Enta Oumry</td>\n      <td>26</td>\n      <td>1964-02-06</td>\n      <td>0.1260</td>\n      <td>118.125</td>\n      <td>0.408000</td>\n      <td>1964</td>\n    </tr>\n    <tr>\n      <th>118777</th>\n      <td>0.891000</td>\n      <td>['Umm Kulthum']</td>\n      <td>0.3450</td>\n      <td>3523619</td>\n      <td>0.723000</td>\n      <td>0</td>\n      <td>1gXsu5iZHLpUr1zvXEfOxw</td>\n      <td>0.769000</td>\n      <td>9</td>\n      <td>0.3930</td>\n      <td>-7.801</td>\n      <td>1</td>\n      <td>Naheg El Berda</td>\n      <td>0</td>\n      <td>1946-01-01</td>\n      <td>0.0996</td>\n      <td>115.550</td>\n      <td>0.299000</td>\n      <td>1946</td>\n    </tr>\n  </tbody>\n</table>\n</div>"
          },
          "metadata": {}
        }
      ]
    },
    {
      "metadata": {
        "id": "twJlTp1EIRpa"
      },
      "cell_type": "markdown",
      "source": [
        "## How long would it take to listen to all the songs? (in days)"
      ]
    },
    {
      "metadata": {
        "trusted": true,
        "id": "sBpbkYs5IRpb",
        "outputId": "bfcfabb1-c4fa-4886-f8ab-8948928c39c7"
      },
      "cell_type": "code",
      "source": [
        "df['duration_ms'].sum()/1000/60/60/24"
      ],
      "execution_count": null,
      "outputs": [
        {
          "output_type": "execute_result",
          "execution_count": 7,
          "data": {
            "text/plain": "455.0693178819444"
          },
          "metadata": {}
        }
      ]
    },
    {
      "metadata": {
        "id": "4heSnb9QIRpb"
      },
      "cell_type": "markdown",
      "source": [
        "## The top 10 most popular songs 🎊"
      ]
    },
    {
      "metadata": {
        "trusted": true,
        "id": "VT2FP9p-IRpb",
        "outputId": "ce741bdc-ffde-47f3-c90c-6b8f7c80febc"
      },
      "cell_type": "code",
      "source": [
        "df[['artists', 'name', 'popularity']].nlargest(10, 'popularity')"
      ],
      "execution_count": null,
      "outputs": [
        {
          "output_type": "execute_result",
          "execution_count": 12,
          "data": {
            "text/plain": "                                          artists  \\\n87942                              ['The Weeknd']   \n87940                   ['DaBaby', 'Roddy Ricch']   \n87949                    ['Powfu', 'beabadoobee']   \n87941  ['THE SCOTTS', 'Travis Scott', 'Kid Cudi']   \n87840                             ['Roddy Ricch']   \n87844                  ['BENEE', 'Gus Dapperton']   \n87852                     ['Surf Mesa', 'Emilee']   \n87946                                   ['Drake']   \n87858                             ['Tones And I']   \n87943                          ['StaySolidRocky']   \n\n                                                    name  popularity  \n87942                                    Blinding Lights         100  \n87940                       ROCKSTAR (feat. Roddy Ricch)          99  \n87949  death bed (coffee for your head) (feat. beabad...          97  \n87941                                         THE SCOTTS          96  \n87840                                            The Box          95  \n87844                                         Supalonely          95  \n87852               ily (i love you baby) (feat. Emilee)          95  \n87946                                       Toosie Slide          95  \n87858                                       Dance Monkey          94  \n87943                                         Party Girl          94  ",
            "text/html": "<div>\n<style scoped>\n    .dataframe tbody tr th:only-of-type {\n        vertical-align: middle;\n    }\n\n    .dataframe tbody tr th {\n        vertical-align: top;\n    }\n\n    .dataframe thead th {\n        text-align: right;\n    }\n</style>\n<table border=\"1\" class=\"dataframe\">\n  <thead>\n    <tr style=\"text-align: right;\">\n      <th></th>\n      <th>artists</th>\n      <th>name</th>\n      <th>popularity</th>\n    </tr>\n  </thead>\n  <tbody>\n    <tr>\n      <th>87942</th>\n      <td>['The Weeknd']</td>\n      <td>Blinding Lights</td>\n      <td>100</td>\n    </tr>\n    <tr>\n      <th>87940</th>\n      <td>['DaBaby', 'Roddy Ricch']</td>\n      <td>ROCKSTAR (feat. Roddy Ricch)</td>\n      <td>99</td>\n    </tr>\n    <tr>\n      <th>87949</th>\n      <td>['Powfu', 'beabadoobee']</td>\n      <td>death bed (coffee for your head) (feat. beabad...</td>\n      <td>97</td>\n    </tr>\n    <tr>\n      <th>87941</th>\n      <td>['THE SCOTTS', 'Travis Scott', 'Kid Cudi']</td>\n      <td>THE SCOTTS</td>\n      <td>96</td>\n    </tr>\n    <tr>\n      <th>87840</th>\n      <td>['Roddy Ricch']</td>\n      <td>The Box</td>\n      <td>95</td>\n    </tr>\n    <tr>\n      <th>87844</th>\n      <td>['BENEE', 'Gus Dapperton']</td>\n      <td>Supalonely</td>\n      <td>95</td>\n    </tr>\n    <tr>\n      <th>87852</th>\n      <td>['Surf Mesa', 'Emilee']</td>\n      <td>ily (i love you baby) (feat. Emilee)</td>\n      <td>95</td>\n    </tr>\n    <tr>\n      <th>87946</th>\n      <td>['Drake']</td>\n      <td>Toosie Slide</td>\n      <td>95</td>\n    </tr>\n    <tr>\n      <th>87858</th>\n      <td>['Tones And I']</td>\n      <td>Dance Monkey</td>\n      <td>94</td>\n    </tr>\n    <tr>\n      <th>87943</th>\n      <td>['StaySolidRocky']</td>\n      <td>Party Girl</td>\n      <td>94</td>\n    </tr>\n  </tbody>\n</table>\n</div>"
          },
          "metadata": {}
        }
      ]
    },
    {
      "metadata": {
        "id": "8L8Co09GIRpb"
      },
      "cell_type": "markdown",
      "source": [
        "## The most popular song before 2000 ⏲"
      ]
    },
    {
      "metadata": {
        "trusted": true,
        "id": "oqJtNkYKIRpb",
        "outputId": "d2268c73-a1de-41e7-e3c0-2d162229f52e"
      },
      "cell_type": "code",
      "source": [
        "df.shape"
      ],
      "execution_count": null,
      "outputs": [
        {
          "output_type": "execute_result",
          "execution_count": 18,
          "data": {
            "text/plain": "(169909, 19)"
          },
          "metadata": {}
        }
      ]
    },
    {
      "metadata": {
        "trusted": true,
        "scrolled": true,
        "id": "otxRB4eZIRpb",
        "outputId": "80b25de2-94ed-477b-98c1-0f5ba69aa8ed"
      },
      "cell_type": "code",
      "source": [
        "df['year'] < 2000"
      ],
      "execution_count": null,
      "outputs": [
        {
          "output_type": "execute_result",
          "execution_count": 23,
          "data": {
            "text/plain": "0          True\n1          True\n2          True\n3          True\n4          True\n          ...  \n169904    False\n169905    False\n169906    False\n169907    False\n169908    False\nName: year, Length: 169909, dtype: bool"
          },
          "metadata": {}
        }
      ]
    },
    {
      "metadata": {
        "trusted": true,
        "scrolled": true,
        "id": "SOe7LI62IRpc",
        "outputId": "91cbfe87-4996-419e-caf8-07080eccd551"
      },
      "cell_type": "code",
      "source": [
        "df[df['release_date']<'2000-01-01'].nlargest(1,'popularity')"
      ],
      "execution_count": null,
      "outputs": [
        {
          "output_type": "execute_result",
          "execution_count": 24,
          "data": {
            "text/plain": "       acousticness          artists  danceability  duration_ms  energy  \\\n82840        0.0339  ['The Beatles']         0.557       185733    0.54   \n\n       explicit                      id  instrumentalness  key  liveness  \\\n82840         0  6dGnYIeXmHdcikdzNNDMm2           0.00248    9     0.179   \n\n       loudness  mode                                  name  popularity  \\\n82840   -10.484     1  Here Comes The Sun - Remastered 2009          83   \n\n      release_date  speechiness    tempo  valence  year  \n82840   1969-09-26       0.0347  129.171    0.394  1969  ",
            "text/html": "<div>\n<style scoped>\n    .dataframe tbody tr th:only-of-type {\n        vertical-align: middle;\n    }\n\n    .dataframe tbody tr th {\n        vertical-align: top;\n    }\n\n    .dataframe thead th {\n        text-align: right;\n    }\n</style>\n<table border=\"1\" class=\"dataframe\">\n  <thead>\n    <tr style=\"text-align: right;\">\n      <th></th>\n      <th>acousticness</th>\n      <th>artists</th>\n      <th>danceability</th>\n      <th>duration_ms</th>\n      <th>energy</th>\n      <th>explicit</th>\n      <th>id</th>\n      <th>instrumentalness</th>\n      <th>key</th>\n      <th>liveness</th>\n      <th>loudness</th>\n      <th>mode</th>\n      <th>name</th>\n      <th>popularity</th>\n      <th>release_date</th>\n      <th>speechiness</th>\n      <th>tempo</th>\n      <th>valence</th>\n      <th>year</th>\n    </tr>\n  </thead>\n  <tbody>\n    <tr>\n      <th>82840</th>\n      <td>0.0339</td>\n      <td>['The Beatles']</td>\n      <td>0.557</td>\n      <td>185733</td>\n      <td>0.54</td>\n      <td>0</td>\n      <td>6dGnYIeXmHdcikdzNNDMm2</td>\n      <td>0.00248</td>\n      <td>9</td>\n      <td>0.179</td>\n      <td>-10.484</td>\n      <td>1</td>\n      <td>Here Comes The Sun - Remastered 2009</td>\n      <td>83</td>\n      <td>1969-09-26</td>\n      <td>0.0347</td>\n      <td>129.171</td>\n      <td>0.394</td>\n      <td>1969</td>\n    </tr>\n  </tbody>\n</table>\n</div>"
          },
          "metadata": {}
        }
      ]
    },
    {
      "metadata": {
        "id": "2WIDS66vIRpc"
      },
      "cell_type": "markdown",
      "source": [
        "## Distribution of `popularity`"
      ]
    },
    {
      "metadata": {
        "trusted": true,
        "id": "cUY0u2V9IRpc",
        "outputId": "d353bf59-0501-4474-8d02-ebac057cfe82"
      },
      "cell_type": "code",
      "source": [
        "sns.displot(df['popularity'])"
      ],
      "execution_count": null,
      "outputs": [
        {
          "output_type": "execute_result",
          "execution_count": 26,
          "data": {
            "text/plain": "<seaborn.axisgrid.FacetGrid at 0x7f51d2920070>"
          },
          "metadata": {}
        },
        {
          "output_type": "display_data",
          "data": {
            "text/plain": "<Figure size 360x360 with 1 Axes>",
            "image/png": "[encoded data removed]"
          },
          "metadata": {
            "needs_background": "light"
          }
        }
      ]
    },
    {
      "metadata": {
        "id": "6aZ18YTuIRpc"
      },
      "cell_type": "markdown",
      "source": [
        "## The top 10 artists in terms of number of songs ❗"
      ]
    },
    {
      "metadata": {
        "trusted": true,
        "id": "JbZe2ZJcIRpc",
        "outputId": "c180c57c-d7ec-48d8-b0bd-a61cd0a29294"
      },
      "cell_type": "code",
      "source": [
        "df['artists'].value_counts().head(10)"
      ],
      "execution_count": null,
      "outputs": [
        {
          "output_type": "execute_result",
          "execution_count": 27,
          "data": {
            "text/plain": "['Эрнест Хемингуэй']      1215\n['Francisco Canaro']       938\n['Эрих Мария Ремарк']      781\n['Ignacio Corsini']        620\n['Frank Sinatra']          592\n['Bob Dylan']              539\n['The Rolling Stones']     512\n['Johnny Cash']            502\n['The Beach Boys']         491\n['Elvis Presley']          488\nName: artists, dtype: int64"
          },
          "metadata": {}
        }
      ]
    },
    {
      "metadata": {
        "trusted": true,
        "id": "ndf7meRKIRpd",
        "outputId": "56aef6e5-daca-479e-dde2-12753fc68593"
      },
      "cell_type": "code",
      "source": [
        "df['artists'].value_counts().head(10).plot(kind='bar')"
      ],
      "execution_count": null,
      "outputs": [
        {
          "output_type": "execute_result",
          "execution_count": 28,
          "data": {
            "text/plain": "<AxesSubplot:>"
          },
          "metadata": {}
        },
        {
          "output_type": "display_data",
          "data": {
            "text/plain": "<Figure size 432x288 with 1 Axes>",
            "image/png": "[encoded data removed]"
          },
          "metadata": {
            "needs_background": "light"
          }
        }
      ]
    },
    {
      "metadata": {
        "id": "g0LoR4fIIRph"
      },
      "cell_type": "markdown",
      "source": [
        "## Songs by key"
      ]
    },
    {
      "metadata": {
        "trusted": true,
        "id": "tfWjiKqnIRph",
        "outputId": "3a1abded-d0d2-428c-ba98-493609a43255"
      },
      "cell_type": "code",
      "source": [
        "df['key'].value_counts().sort_index(ascending=False)"
      ],
      "execution_count": null,
      "outputs": [
        {
          "output_type": "execute_result",
          "execution_count": 39,
          "data": {
            "text/plain": "11    10593\n10    12056\n9     17628\n8     10711\n7     20757\n6      8586\n5     16336\n4     12921\n3      7185\n2     18821\n1     12816\n0     21499\nName: key, dtype: int64"
          },
          "metadata": {}
        }
      ]
    },
    {
      "metadata": {
        "trusted": true,
        "id": "l7rbmlTVIRph",
        "outputId": "e2346bcf-36c7-406b-ad3c-ec86f3005e93"
      },
      "cell_type": "code",
      "source": [
        "order= df['key'].value_counts().sort_index(ascending=False).index\n",
        "sns.countplot(data=df, x='key', order=order)"
      ],
      "execution_count": null,
      "outputs": [
        {
          "output_type": "execute_result",
          "execution_count": 41,
          "data": {
            "text/plain": "<AxesSubplot:xlabel='key', ylabel='count'>"
          },
          "metadata": {}
        },
        {
          "output_type": "display_data",
          "data": {
            "text/plain": "<Figure size 432x288 with 1 Axes>",
            "image/png": "[encoded data removed]"
          },
          "metadata": {
            "needs_background": "light"
          }
        }
      ]
    },
    {
      "metadata": {
        "id": "91kca1sMIRpi"
      },
      "cell_type": "markdown",
      "source": [
        "## A line graph representing the annual number of songs since 1921"
      ]
    },
    {
      "metadata": {
        "trusted": true,
        "id": "T_zPkpAeIRpi",
        "outputId": "ac527b85-cc37-4e63-d748-874603b9b649"
      },
      "cell_type": "code",
      "source": [
        "songs_year=df[df['year'] >= 1921].groupby('year').size().reset_index(name='count')\n",
        "sns.lineplot(data=songs_year, x='year', y='count')\n"
      ],
      "execution_count": null,
      "outputs": [
        {
          "output_type": "execute_result",
          "execution_count": 47,
          "data": {
            "text/plain": "<AxesSubplot:xlabel='year', ylabel='count'>"
          },
          "metadata": {}
        },
        {
          "output_type": "display_data",
          "data": {
            "text/plain": "<Figure size 432x288 with 1 Axes>",
            "image/png": "[encoded data removed]"
          },
          "metadata": {
            "needs_background": "light"
          }
        }
      ]
    },
    {
      "metadata": {
        "id": "harnH8tuIRpi"
      },
      "cell_type": "markdown",
      "source": [
        "## Relationship between `year` and `popularity`"
      ]
    },
    {
      "metadata": {
        "trusted": true,
        "id": "5MNiKdSsIRpi",
        "outputId": "69b5048a-99e7-4a4d-e1c1-d516ee367909"
      },
      "cell_type": "code",
      "source": [
        "sns.lineplot(data=df, x='year', y='popularity')"
      ],
      "execution_count": null,
      "outputs": [
        {
          "output_type": "execute_result",
          "execution_count": 51,
          "data": {
            "text/plain": "<AxesSubplot:xlabel='year', ylabel='popularity'>"
          },
          "metadata": {}
        },
        {
          "output_type": "display_data",
          "data": {
            "text/plain": "<Figure size 432x288 with 1 Axes>",
            "image/png": "[encoded data removed]"
          },
          "metadata": {
            "needs_background": "light"
          }
        }
      ]
    },
    {
      "metadata": {
        "id": "jmcnN1_9IRpi"
      },
      "cell_type": "markdown",
      "source": [
        "It seems that the popularity score has increased through time...."
      ]
    }
  ],
  "metadata": {
    "kernelspec": {
      "name": "python3",
      "display_name": "Python 3 (ipykernel)",
      "language": "python"
    },
    "language_info": {
      "name": "python",
      "version": "3.10.11",
      "mimetype": "text/x-python",
      "codemirror_mode": {
        "name": "ipython",
        "version": 3
      },
      "pygments_lexer": "ipython3",
      "nbconvert_exporter": "python",
      "file_extension": ".py"
    },
    "toc": {
      "base_numbering": 1,
      "nav_menu": {},
      "number_sections": true,
      "sideBar": true,
      "skip_h1_title": false,
      "title_cell": "Table of Contents",
      "title_sidebar": "Contents",
      "toc_cell": false,
      "toc_position": {},
      "toc_section_display": true,
      "toc_window_display": false
    },
    "varInspector": {
      "cols": {
        "lenName": 16,
        "lenType": 16,
        "lenVar": 40
      },
      "kernels_config": {
        "python": {
          "delete_cmd_postfix": "",
          "delete_cmd_prefix": "del ",
          "library": "var_list.py",
          "varRefreshCmd": "print(var_dic_list())"
        },
        "r": {
          "delete_cmd_postfix": ") ",
          "delete_cmd_prefix": "rm(",
          "library": "var_list.r",
          "varRefreshCmd": "cat(var_dic_list()) "
        }
      },
      "types_to_exclude": [
        "module",
        "function",
        "builtin_function_or_method",
        "instance",
        "_Feature"
      ],
      "window_display": false
    },
    "colab": {
      "provenance": []
    }
  },
  "nbformat": 4,
  "nbformat_minor": 0
}